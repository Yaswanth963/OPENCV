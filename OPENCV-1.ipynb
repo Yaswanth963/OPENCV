{
 "cells": [
  {
   "cell_type": "markdown",
   "metadata": {},
   "source": [
    "## Reading an image "
   ]
  },
  {
   "cell_type": "code",
   "execution_count": 10,
   "metadata": {},
   "outputs": [],
   "source": [
    "import cv2\n",
    "img=cv2.imread(\"lena.jpg\",-1)#-1 for original image\n",
    "cv2.imshow(\"image\",img)\n",
    "k=cv2.waitKey(0)\n",
    "#waitKey(5000) display image for 5sec\n",
    "#27 is esc value\n",
    "if(k==27):#press esc to close the window\n",
    "    cv2.destroyAllWindows()\n",
    "elif(k==ord('s')):#press s to save image\n",
    "    cv2.imwrite(\"lena_copy.png\",img)#save the copy of an image  \n",
    "    cv2.destroyAllWindows()\n"
   ]
  },
  {
   "cell_type": "markdown",
   "metadata": {},
   "source": [
    "## Access our webcam"
   ]
  },
  {
   "cell_type": "code",
   "execution_count": 2,
   "metadata": {},
   "outputs": [],
   "source": [
    "import cv2 as cv\n",
    "cam=cv.VideoCapture(0)\n",
    "while(cam.isOpened()):\n",
    "    _,frame=cam.read()\n",
    "    cv.imshow('camera',frame)\n",
    "    if cv.waitKey(1)==27:\n",
    "        break\n",
    "cam.release()\n",
    "cv.destroyAllWindows()"
   ]
  },
  {
   "cell_type": "markdown",
   "metadata": {},
   "source": [
    "## Webcam actions are stored as a video"
   ]
  },
  {
   "cell_type": "code",
   "execution_count": 18,
   "metadata": {},
   "outputs": [],
   "source": [
    "import cv2\n",
    "#index 0 uses pc camera\n",
    "cap=cv2.VideoCapture(0)\n",
    "#to write into the video\n",
    "fourcc=cv2.VideoWriter_fourcc(*'XVID')#or('X','V','I','D')\n",
    "out=cv2.VideoWriter('output.avi',fourcc,20.0,(640,480))\n",
    "#output_label,code for .avi,no.of.frames per sec,shape of frame\n",
    "while(cap.isOpened()):\n",
    "#ret returns bool if path present or not\n",
    "    ret,frame=cap.read()\n",
    "    if(ret==True):\n",
    "    #returns frame by frame width and height \n",
    "        out.write(frame)\n",
    "        gray=cv2.cvtColor(frame,cv2.COLOR_BGR2GRAY)\n",
    "        #converts into grayscale\n",
    "        cv2.imshow('frame',gray)\n",
    "        if(cv2.waitKey(1)) & 0xFF ==ord('q'):#press q to save video\n",
    "            break\n",
    "    else:\n",
    "        break\n",
    "        \n",
    "cap.release()\n",
    "out.release()\n",
    "cv2.destroyAllWindows()\n"
   ]
  },
  {
   "cell_type": "markdown",
   "metadata": {},
   "source": [
    "## Creating our own blank image"
   ]
  },
  {
   "cell_type": "code",
   "execution_count": 11,
   "metadata": {},
   "outputs": [],
   "source": [
    "import cv2\n",
    "import numpy as np\n",
    "my_img=np.zeros([512,512,3],np.uint8)\n",
    "cv2.imshow('my image',my_img)\n",
    "cv2.waitKey(5000)#waits for 5 seconds\n",
    "cv2.destroyAllWindows()"
   ]
  },
  {
   "cell_type": "markdown",
   "metadata": {},
   "source": [
    "## Drawing lines and shapes"
   ]
  },
  {
   "cell_type": "code",
   "execution_count": 9,
   "metadata": {},
   "outputs": [],
   "source": [
    "import cv2\n",
    "import numpy as np\n",
    "#img=cv2.imread(\"E:\\\\opencv\\\\opencv-master\\\\samples\\\\data\\\\lena.jpg\",-1)\n",
    "#create our own image using numpy\n",
    "img=np.zeros([512,512,3],np.uint8)#datatype\n",
    "#image source,starting coordinate,ending coordinate,color in RGB format,line thickness\n",
    "img=cv2.line(img,(0,0),(255,255),(0,255,0),3)\n",
    "img=cv2.arrowedLine(img,(255,255),(300,300),(2555,0,0),5)\n",
    "#image top_left coordinates,bottom_right,color,thickness\n",
    "img=cv2.rectangle(img,(200,300),(250,350),(0,0,255),3)#-1 for filled rectangle\n",
    "#image,coordiante for center,radius,color,thickness\n",
    "img=cv2.circle(img,(447,63),63,(0,255,0),-1)\n",
    "\n",
    "cv2.imshow('lena',img)\n",
    "cv2.waitKey(3000)\n",
    "cv2.destroyAllWindows()\n"
   ]
  },
  {
   "cell_type": "markdown",
   "metadata": {},
   "source": [
    "## Putting text into image\n"
   ]
  },
  {
   "cell_type": "code",
   "execution_count": 17,
   "metadata": {},
   "outputs": [],
   "source": [
    "import cv2\n",
    "font=cv2.FONT_HERSHEY_SCRIPT_SIMPLEX\n",
    "img=cv2.imread(\"lena.jpg\",-1)#0 for grayscale\n",
    "img=cv2.putText(img,\"lena\",(10,500),font,5,(0,255,255),3,cv2.LINE_AA)#image,text,starting coordinate,font_type,font_size,color,thickness,line_type\n",
    "cv2.imshow('lena',img)\n",
    "cv2.waitKey(3000)\n",
    "cv2.destroyAllWindows()"
   ]
  },
  {
   "cell_type": "markdown",
   "metadata": {},
   "source": [
    "## Getting and setting frame dimensions"
   ]
  },
  {
   "cell_type": "code",
   "execution_count": 23,
   "metadata": {},
   "outputs": [
    {
     "name": "stdout",
     "output_type": "stream",
     "text": [
      "Frame dimensions by default\n",
      "Frame Width: 640.0\n",
      "Frame Height: 480.0\n",
      "Frame dimensions after manipulation\n",
      "Frame width: 1280.0 Frame height: 720.0\n"
     ]
    }
   ],
   "source": [
    "import cv2\n",
    "\n",
    "cap=cv2.VideoCapture(0)\n",
    "#each property has a specific value eg.width->3\n",
    "print(\"Frame dimensions by default\")\n",
    "print(\"Frame Width:\",cap.get(cv2.CAP_PROP_FRAME_WIDTH))\n",
    "print(\"Frame Height:\",cap.get(cv2.CAP_PROP_FRAME_HEIGHT))\n",
    "\n",
    "cap.set(3,1208)#3 for width or cv2.CAP_PROP_FRAME_WIDTH\n",
    "cap.set(4,720)#4 for height or cv2.CAP_PROP_FRAME_HEIGHT\n",
    "#out of range value will set the frame to max size\n",
    "print(\"Frame dimensions after manipulation\")\n",
    "print(\"Frame width:\",cap.get(3),\"Frame height:\",cap.get(4))\n",
    "while(cap.isOpened()):\n",
    "    ret,frame=cap.read()\n",
    "    if(ret==True):\n",
    "    \n",
    "        gray=cv2.cvtColor(frame,cv2.COLOR_BGR2GRAY)\n",
    "        cv2.imshow('frame',gray)\n",
    "        if(cv2.waitKey(1)) & 0xFF ==ord('q'):\n",
    "            break\n",
    "    else:\n",
    "        break\n",
    "cap.release()\n",
    "\n",
    "cv2.destroyAllWindows()\n"
   ]
  },
  {
   "cell_type": "markdown",
   "metadata": {},
   "source": [
    "## Display current date and time "
   ]
  },
  {
   "cell_type": "code",
   "execution_count": 24,
   "metadata": {},
   "outputs": [],
   "source": [
    "import cv2\n",
    "import datetime\n",
    "cap=cv2.VideoCapture(0)\n",
    "while(cap.isOpened()):\n",
    "    ret,frame=cap.read()\n",
    "    if(ret==True):\n",
    "        font=cv2.FONT_HERSHEY_DUPLEX\n",
    "        #text=\"Frame width:\"+str(cap.get(3))+\" \"+\"Frame height:\"+str(cap.get(4))\n",
    "        #can also replace datetim with the desired text\n",
    "        datetim=str(datetime.datetime.now())\n",
    "        frame=cv2.putText(frame,datetim,(10,50),font,1,(0,255,255),2,cv2.LINE_AA)\n",
    "        cv2.imshow('frame',frame)\n",
    "        if(cv2.waitKey(1)) & 0xFF ==ord('q'):\n",
    "            break\n",
    "    else:\n",
    "        break\n",
    "cap.release()\n",
    "cv2.destroyAllWindows()\n"
   ]
  },
  {
   "cell_type": "markdown",
   "metadata": {},
   "source": [
    "## Events and callbacks in opencv"
   ]
  },
  {
   "cell_type": "code",
   "execution_count": 42,
   "metadata": {},
   "outputs": [
    {
     "name": "stdout",
     "output_type": "stream",
     "text": [
      "152   226\n"
     ]
    }
   ],
   "source": [
    "import numpy as np\n",
    "import cv2\n",
    "\n",
    "#events=[i for i in dir(cv2) if 'EVENT' in i] list of events in opencv(18 events)\n",
    "def click_event(event,x,y,flags,params):\n",
    "    if(event==cv2.EVENT_LBUTTONDOWN):\n",
    "        print(x,' ',y)\n",
    "        font=cv2.FONT_HERSHEY_SCRIPT_COMPLEX\n",
    "        strxy=str(x)+\",\"+str(y)\n",
    "        cv2.putText(img,strxy,(x,y),font,.2,(255,255,255),1)\n",
    "        cv2.imshow('image',img)\n",
    "    if(event==cv2.EVENT_RBUTTONDOWN):\n",
    "        blue=img[x,y,0]\n",
    "        green=img[x,y,1]\n",
    "        red=img[x,y,2]\n",
    "        font=cv2.FONT_HERSHEY_SCRIPT_COMPLEX\n",
    "        strbgr=str(blue)+\",\"+str(green)+\",\"+str(red)\n",
    "        cv2.putText(img,strbgr,(x,y),font,.5,(255,255,255),2)\n",
    "        cv2.imshow('image',img)\n",
    "img=cv2.imread(\"ellipses.jpg\")\n",
    "cv2.imshow('image',img)\n",
    "cv2.setMouseCallback('image',click_event)\n",
    "cv2.waitKey(0)\n",
    "cv2.destroyAllWindows()\n"
   ]
  },
  {
   "cell_type": "markdown",
   "metadata": {},
   "source": [
    "## Drawing with mouse events"
   ]
  },
  {
   "cell_type": "code",
   "execution_count": 44,
   "metadata": {},
   "outputs": [],
   "source": [
    "import cv2\n",
    "def click_event(event,x,y,flags,params):\n",
    "    if(event==cv2.EVENT_LBUTTONDOWN):\n",
    "        cv2.circle(img,(x,y),3,(0,255,255),3)\n",
    "        points.append((x,y))\n",
    "        if(len(points)>=2):\n",
    "            cv2.line(img,points[-1],points[-2],(0,255,0),4)\n",
    "        cv2.imshow('image',img)\n",
    "#img=np.zeros((512,512,3),np.uint8)    \n",
    "img=cv2.imread(\"home.jpg\")\n",
    "cv2.imshow('image',img)\n",
    "points=[]\n",
    "cv2.setMouseCallback('image',click_event)\n",
    "cv2.waitKey(0)\n",
    "cv2.destroyAllWindows()\n"
   ]
  },
  {
   "cell_type": "markdown",
   "metadata": {},
   "source": [
    "##### More on mouse events"
   ]
  },
  {
   "cell_type": "code",
   "execution_count": 46,
   "metadata": {},
   "outputs": [],
   "source": [
    "import cv2\n",
    "import numpy as np\n",
    "def click_event(event,x,y,flags,params):\n",
    "    if(event==cv2.EVENT_LBUTTONDOWN):\n",
    "        blue=img[x,y,0]\n",
    "        green=img[x,y,1]\n",
    "        red=img[x,y,2]\n",
    "        cv2.circle(img,(x,y),3,(0,0,255),1)\n",
    "        cv2.imshow('image',img)\n",
    "        my_image=np.zeros((512,512,3),np.uint8)\n",
    "        my_image[:]=[blue,green,red]#\n",
    "        cv2.imshow('color_window',my_image)\n",
    "\n",
    "img=cv2.imread(\"lena.jpg\")\n",
    "cv2.imshow('image',img)\n",
    "cv2.setMouseCallback('image',click_event)\n",
    "cv2.waitKey(0)\n",
    "cv2.destroyAllWindows()\n"
   ]
  },
  {
   "cell_type": "markdown",
   "metadata": {},
   "source": [
    "## Merging pictures"
   ]
  },
  {
   "cell_type": "code",
   "execution_count": 54,
   "metadata": {},
   "outputs": [
    {
     "name": "stdout",
     "output_type": "stream",
     "text": [
      "(342, 548, 3)\n",
      "562248\n",
      "uint8\n"
     ]
    }
   ],
   "source": [
    "import cv2\n",
    "img=cv2.imread(\"E:\\\\opencv\\\\opencv-master\\\\samples\\\\data\\\\messi5.jpg\")\n",
    "img2=cv2.imread(\"E:\\\\opencv\\\\opencv-master\\\\samples\\\\data\\\\opencv-logo.png\")\n",
    "print(img.shape)#returns a tuple with image dimensions\n",
    "print(img.size)#numbers of pixels is accessed\n",
    "print(img.dtype)#datatype of image is obtained\n",
    "\n",
    "img=cv2.resize(img,(512,512))\n",
    "img2=cv2.resize(img2,(512,512))\n",
    "#des=cv2.add(img,img2)\n",
    "des1=cv2.addWeighted(img,.9,img2,.1,1)#img1,weight,img2,weight,scalar\n",
    "des2=cv2.addWeighted(img,.6,img2,.4,1)\n",
    "des3=cv2.addWeighted(img,.4,img2,.6,1)\n",
    "cv2.imshow('image1',des1)\n",
    "cv2.imshow('image2',des2)\n",
    "cv2.imshow('image3',des3)\n",
    "cv2.waitKey(0)\n",
    "cv2.destroyAllWindows()\n"
   ]
  },
  {
   "cell_type": "markdown",
   "metadata": {},
   "source": [
    "## Extracting part of an image"
   ]
  },
  {
   "cell_type": "code",
   "execution_count": 71,
   "metadata": {},
   "outputs": [],
   "source": [
    "import cv2\n",
    "img=cv2.imread(\"messi5.jpg\")\n",
    "img2=img\n",
    "b,g,r=cv2.split(img)\n",
    "# print(b,g,r)\n",
    "img=cv2.merge((b,g,r))\n",
    "\n",
    "ball=img[280:340,330:390]#display ball\n",
    "img[273:333,100:160]=ball#add ball to this coordinate\n",
    "\n",
    "img=cv2.resize(img,(512,512))\n",
    "cv2.imshow('original image',img2)\n",
    "cv2.imshow('ball',ball)\n",
    "cv2.imshow('created image',img)\n",
    "cv2.waitKey(0)\n",
    "cv2.destroyAllWindows()\n"
   ]
  },
  {
   "cell_type": "markdown",
   "metadata": {},
   "source": [
    "## Bitwise Operations on images"
   ]
  },
  {
   "cell_type": "code",
   "execution_count": 73,
   "metadata": {},
   "outputs": [],
   "source": [
    "import cv2\n",
    "import numpy as np\n",
    "img1=np.zeros((250,500,3),np.uint8)\n",
    "img1=cv2.rectangle(img1,(200,0),(300,100),(255,255,255),-1)\n",
    "img2=cv2.imread(\"messi5.jpg\")\n",
    "img1=cv2.resize(img1,(512,512))\n",
    "img2=cv2.resize(img2,(512,512))\n",
    "bitAnd=cv2.bitwise_and(img1,img2)#extract common part between both images\n",
    "bitNot=cv2.bitwise_not(img1)#takes only one argument5\n",
    "bitor=cv2.bitwise_or(img2,img1)\n",
    "bitXor=cv2.bitwise_xor(img2,img1)\n",
    "cv2.imshow('image',img1)\n",
    "cv2.imshow('image2',img2)\n",
    "cv2.imshow('image3',bitAnd)\n",
    "cv2.imshow('image4',bitNot)\n",
    "cv2.imshow('image5',bitor)\n",
    "cv2.imshow('image3',bitXor)\n",
    "cv2.waitKey(0)\n",
    "cv2.destroyAllWindows()"
   ]
  }
 ],
 "metadata": {
  "kernelspec": {
   "display_name": "Python 3",
   "language": "python",
   "name": "python3"
  },
  "language_info": {
   "codemirror_mode": {
    "name": "ipython",
    "version": 3
   },
   "file_extension": ".py",
   "mimetype": "text/x-python",
   "name": "python",
   "nbconvert_exporter": "python",
   "pygments_lexer": "ipython3",
   "version": "3.7.4"
  }
 },
 "nbformat": 4,
 "nbformat_minor": 2
}
